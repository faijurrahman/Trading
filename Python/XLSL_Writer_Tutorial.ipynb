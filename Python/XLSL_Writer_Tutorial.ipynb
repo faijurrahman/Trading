{
  "nbformat": 4,
  "nbformat_minor": 0,
  "metadata": {
    "colab": {
      "provenance": [],
      "authorship_tag": "ABX9TyNfbNwf1xQ9ldSwBtvJbG9Z",
      "include_colab_link": true
    },
    "kernelspec": {
      "name": "python3",
      "display_name": "Python 3"
    },
    "language_info": {
      "name": "python"
    }
  },
  "cells": [
    {
      "cell_type": "markdown",
      "metadata": {
        "id": "view-in-github",
        "colab_type": "text"
      },
      "source": [
        "<a href=\"https://colab.research.google.com/github/faijurrahman/Trading/blob/main/Python/XLSL_Writer_Tutorial.ipynb\" target=\"_parent\"><img src=\"https://colab.research.google.com/assets/colab-badge.svg\" alt=\"Open In Colab\"/></a>"
      ]
    },
    {
      "cell_type": "code",
      "source": [
        "#Official Website: https://readthedocs.org/projects/xlsxwriter/\n",
        "#Github Source: https://github.com/jmcnamara/XlsxWriter/blob/main/examples/tutorial1.py"
      ],
      "metadata": {
        "id": "_FjyIF46PM4-"
      },
      "execution_count": null,
      "outputs": []
    },
    {
      "cell_type": "code",
      "source": [
        "!pip install xlsxwriter"
      ],
      "metadata": {
        "colab": {
          "base_uri": "https://localhost:8080/"
        },
        "id": "v6LwikAYPnYa",
        "outputId": "92dd5918-ad33-417f-ebc2-27b9a470e23b"
      },
      "execution_count": 12,
      "outputs": [
        {
          "output_type": "stream",
          "name": "stdout",
          "text": [
            "Looking in indexes: https://pypi.org/simple, https://us-python.pkg.dev/colab-wheels/public/simple/\n",
            "Requirement already satisfied: xlsxwriter in /usr/local/lib/python3.8/dist-packages (3.0.6)\n"
          ]
        }
      ]
    },
    {
      "cell_type": "code",
      "execution_count": 13,
      "metadata": {
        "id": "1TDVuLTsOxYO"
      },
      "outputs": [],
      "source": [
        "# Source: https://github.com/jmcnamara/XlsxWriter/blob/main/examples/pandas_table.py\n",
        "##############################################################################\n",
        "#\n",
        "# An example of adding a dataframe to an worksheet table in an xlsx file\n",
        "# using Pandas and XlsxWriter.\n",
        "#\n",
        "# Tables in Excel are used to group rows and columns of data into a single\n",
        "# structure that can be referenced in a formula or formatted collectively.\n",
        "#\n",
        "# SPDX-License-Identifier: BSD-2-Clause\n",
        "# Copyright 2013-2023, John McNamara, jmcnamara@cpan.org\n",
        "#\n",
        "\n",
        "import pandas as pd\n",
        "\n",
        "# Create a Pandas dataframe from some data.\n",
        "df = pd.DataFrame({\n",
        "    'Country':    ['China',    'India',    'United States', 'Indonesia'],\n",
        "    'Population': [1404338840, 1366938189, 330267887,       269603400],\n",
        "    'Rank':       [1,          2,          3,               4]})\n",
        "\n",
        "# Order the columns if necessary.\n",
        "df = df[['Rank', 'Country', 'Population']]\n",
        "\n",
        "# Create a Pandas Excel writer using XlsxWriter as the engine.\n",
        "writer = pd.ExcelWriter('pandas_table.xlsx', engine='xlsxwriter')\n",
        "\n",
        "# Write the dataframe data to XlsxWriter. Turn off the default header and\n",
        "# index and skip one row to allow us to insert a user defined header.\n",
        "df.to_excel(writer, sheet_name='Sheet1', startrow=1, header=False, index=False)\n",
        "\n",
        "# Get the xlsxwriter workbook and worksheet objects.\n",
        "workbook = writer.book\n",
        "worksheet = writer.sheets['Sheet1']\n",
        "\n",
        "# Get the dimensions of the dataframe.\n",
        "(max_row, max_col) = df.shape\n",
        "\n",
        "# Create a list of column headers, to use in add_table().\n",
        "column_settings = [{'header': column} for column in df.columns]\n",
        "\n",
        "# Add the Excel table structure. Pandas will add the data.\n",
        "worksheet.add_table(0, 0, max_row, max_col - 1, {'columns': column_settings})\n",
        "\n",
        "# Make the columns wider for clarity.\n",
        "worksheet.set_column(0, max_col - 1, 12)\n",
        "\n",
        "# Close the Pandas Excel writer and output the Excel file.\n",
        "writer.save()"
      ]
    },
    {
      "cell_type": "code",
      "source": [
        "writer.close()"
      ],
      "metadata": {
        "id": "Y1oQHhvtPuaC"
      },
      "execution_count": 14,
      "outputs": []
    }
  ]
}