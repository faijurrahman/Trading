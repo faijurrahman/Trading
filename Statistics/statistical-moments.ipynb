{
  "cells": [
    {
      "cell_type": "markdown",
      "metadata": {
        "id": "view-in-github",
        "colab_type": "text"
      },
      "source": [
        "<a href=\"https://colab.research.google.com/github/faijurrahman/Trading/blob/main/Statistics/statistical-moments.ipynb\" target=\"_parent\"><img src=\"https://colab.research.google.com/assets/colab-badge.svg\" alt=\"Open In Colab\"/></a>"
      ]
    },
    {
      "cell_type": "markdown",
      "metadata": {
        "id": "_brOgqdc66AY"
      },
      "source": [
        "## Statistical Moments\n",
        "\n",
        "How more moments than just mean and variance can be used to describe data. How to use a Jarque Bera test to check for normality. This is a crucial step in many other analyses, especially regression, as many statistical techniques and variance computations assume normality."
      ]
    },
    {
      "cell_type": "code",
      "source": [
        "!pip install yfinance"
      ],
      "metadata": {
        "id": "Axbo2BEj67C2",
        "outputId": "1f51e659-ba79-4f20-a5a9-085f7c09fa9d",
        "colab": {
          "base_uri": "https://localhost:8080/"
        }
      },
      "execution_count": 1,
      "outputs": [
        {
          "output_type": "stream",
          "name": "stdout",
          "text": [
            "Looking in indexes: https://pypi.org/simple, https://us-python.pkg.dev/colab-wheels/public/simple/\n",
            "Collecting yfinance\n",
            "  Downloading yfinance-0.2.3-py2.py3-none-any.whl (50 kB)\n",
            "\u001b[2K     \u001b[90m━━━━━━━━━━━━━━━━━━━━━━━━━━━━━━━━━━━━━━━\u001b[0m \u001b[32m50.4/50.4 KB\u001b[0m \u001b[31m854.5 kB/s\u001b[0m eta \u001b[36m0:00:00\u001b[0m\n",
            "\u001b[?25hCollecting requests>=2.26\n",
            "  Downloading requests-2.28.2-py3-none-any.whl (62 kB)\n",
            "\u001b[2K     \u001b[90m━━━━━━━━━━━━━━━━━━━━━━━━━━━━━━━━━━━━━━━━\u001b[0m \u001b[32m62.8/62.8 KB\u001b[0m \u001b[31m3.1 MB/s\u001b[0m eta \u001b[36m0:00:00\u001b[0m\n",
            "\u001b[?25hCollecting html5lib>=1.1\n",
            "  Downloading html5lib-1.1-py2.py3-none-any.whl (112 kB)\n",
            "\u001b[2K     \u001b[90m━━━━━━━━━━━━━━━━━━━━━━━━━━━━━━━━━━━━━━━\u001b[0m \u001b[32m112.2/112.2 KB\u001b[0m \u001b[31m6.3 MB/s\u001b[0m eta \u001b[36m0:00:00\u001b[0m\n",
            "\u001b[?25hCollecting frozendict>=2.3.4\n",
            "  Downloading frozendict-2.3.4-cp38-cp38-manylinux_2_17_x86_64.manylinux2014_x86_64.whl (110 kB)\n",
            "\u001b[2K     \u001b[90m━━━━━━━━━━━━━━━━━━━━━━━━━━━━━━━━━━━━━━━\u001b[0m \u001b[32m111.0/111.0 KB\u001b[0m \u001b[31m5.3 MB/s\u001b[0m eta \u001b[36m0:00:00\u001b[0m\n",
            "\u001b[?25hCollecting beautifulsoup4>=4.11.1\n",
            "  Downloading beautifulsoup4-4.11.1-py3-none-any.whl (128 kB)\n",
            "\u001b[2K     \u001b[90m━━━━━━━━━━━━━━━━━━━━━━━━━━━━━━━━━━━━━━━\u001b[0m \u001b[32m128.2/128.2 KB\u001b[0m \u001b[31m6.7 MB/s\u001b[0m eta \u001b[36m0:00:00\u001b[0m\n",
            "\u001b[?25hRequirement already satisfied: appdirs>=1.4.4 in /usr/local/lib/python3.8/dist-packages (from yfinance) (1.4.4)\n",
            "Requirement already satisfied: pytz>=2022.5 in /usr/local/lib/python3.8/dist-packages (from yfinance) (2022.7)\n",
            "Collecting cryptography>=3.3.2\n",
            "  Downloading cryptography-39.0.0-cp36-abi3-manylinux_2_24_x86_64.whl (4.1 MB)\n",
            "\u001b[2K     \u001b[90m━━━━━━━━━━━━━━━━━━━━━━━━━━━━━━━━━━━━━━━━\u001b[0m \u001b[32m4.1/4.1 MB\u001b[0m \u001b[31m19.0 MB/s\u001b[0m eta \u001b[36m0:00:00\u001b[0m\n",
            "\u001b[?25hRequirement already satisfied: multitasking>=0.0.7 in /usr/local/lib/python3.8/dist-packages (from yfinance) (0.0.11)\n",
            "Requirement already satisfied: pandas>=1.3.0 in /usr/local/lib/python3.8/dist-packages (from yfinance) (1.3.5)\n",
            "Requirement already satisfied: lxml>=4.9.1 in /usr/local/lib/python3.8/dist-packages (from yfinance) (4.9.2)\n",
            "Requirement already satisfied: numpy>=1.16.5 in /usr/local/lib/python3.8/dist-packages (from yfinance) (1.21.6)\n",
            "Collecting soupsieve>1.2\n",
            "  Downloading soupsieve-2.3.2.post1-py3-none-any.whl (37 kB)\n",
            "Requirement already satisfied: cffi>=1.12 in /usr/local/lib/python3.8/dist-packages (from cryptography>=3.3.2->yfinance) (1.15.1)\n",
            "Requirement already satisfied: six>=1.9 in /usr/local/lib/python3.8/dist-packages (from html5lib>=1.1->yfinance) (1.15.0)\n",
            "Requirement already satisfied: webencodings in /usr/local/lib/python3.8/dist-packages (from html5lib>=1.1->yfinance) (0.5.1)\n",
            "Requirement already satisfied: python-dateutil>=2.7.3 in /usr/local/lib/python3.8/dist-packages (from pandas>=1.3.0->yfinance) (2.8.2)\n",
            "Requirement already satisfied: charset-normalizer<4,>=2 in /usr/local/lib/python3.8/dist-packages (from requests>=2.26->yfinance) (2.1.1)\n",
            "Requirement already satisfied: idna<4,>=2.5 in /usr/local/lib/python3.8/dist-packages (from requests>=2.26->yfinance) (2.10)\n",
            "Requirement already satisfied: certifi>=2017.4.17 in /usr/local/lib/python3.8/dist-packages (from requests>=2.26->yfinance) (2022.12.7)\n",
            "Requirement already satisfied: urllib3<1.27,>=1.21.1 in /usr/local/lib/python3.8/dist-packages (from requests>=2.26->yfinance) (1.24.3)\n",
            "Requirement already satisfied: pycparser in /usr/local/lib/python3.8/dist-packages (from cffi>=1.12->cryptography>=3.3.2->yfinance) (2.21)\n",
            "Installing collected packages: soupsieve, requests, html5lib, frozendict, cryptography, beautifulsoup4, yfinance\n",
            "  Attempting uninstall: requests\n",
            "    Found existing installation: requests 2.25.1\n",
            "    Uninstalling requests-2.25.1:\n",
            "      Successfully uninstalled requests-2.25.1\n",
            "  Attempting uninstall: html5lib\n",
            "    Found existing installation: html5lib 1.0.1\n",
            "    Uninstalling html5lib-1.0.1:\n",
            "      Successfully uninstalled html5lib-1.0.1\n",
            "  Attempting uninstall: beautifulsoup4\n",
            "    Found existing installation: beautifulsoup4 4.6.3\n",
            "    Uninstalling beautifulsoup4-4.6.3:\n",
            "      Successfully uninstalled beautifulsoup4-4.6.3\n",
            "Successfully installed beautifulsoup4-4.11.1 cryptography-39.0.0 frozendict-2.3.4 html5lib-1.1 requests-2.28.2 soupsieve-2.3.2.post1 yfinance-0.2.3\n"
          ]
        }
      ]
    },
    {
      "cell_type": "code",
      "execution_count": 2,
      "metadata": {
        "id": "gGRIRxYX66Ae"
      },
      "outputs": [],
      "source": [
        "import yfinance as yf\n",
        "import requests\n",
        "import datetime\n",
        "import numpy as np\n",
        "import matplotlib.pyplot as plt\n",
        "from pandas_datareader import data as pdr\n",
        "from matplotlib import style\n",
        "from math import pi\n",
        "\n",
        "import scipy.stats as stats\n",
        "\n",
        "yf.pdr_override()"
      ]
    },
    {
      "cell_type": "markdown",
      "metadata": {
        "id": "pOHestLy66Ag"
      },
      "source": [
        "When we calculate variance, we square the deviations around the mean. In the case of large deviations, we do not know whether they are likely to be positive or negative. This is where the skewness and symmetry of a distribution come in. A distribution is symmetric if the parts on either side of the mean are mirror images of each other. For example, the normal distribution is symmetric. "
      ]
    },
    {
      "cell_type": "code",
      "execution_count": 3,
      "metadata": {
        "id": "tXCjqMVq66Ag",
        "outputId": "22b44571-ff7a-4b7f-8b28-402822c8a6b2",
        "colab": {
          "base_uri": "https://localhost:8080/",
          "height": 265
        }
      },
      "outputs": [
        {
          "output_type": "display_data",
          "data": {
            "text/plain": [
              "<Figure size 432x288 with 1 Axes>"
            ],
            "image/png": "[encoded data removed]"
          },
          "metadata": {
            "needs_background": "light"
          }
        }
      ],
      "source": [
        "# Plot a normal distribution with mean = 0 and standard deviation = 2\n",
        "xs = np.linspace(-6,6, 300)\n",
        "normal = stats.norm.pdf(xs)\n",
        "plt.plot(xs, normal);"
      ]
    },
    {
      "cell_type": "markdown",
      "metadata": {
        "id": "v4AtJ3BT66Ai"
      },
      "source": [
        "A distribution can have many small positive and a few large negative values (negatively skewed) or vice versa (positively skewed), and still have a mean of 0. A symmetric distribution has skewness 0. Positively skewed unimodal (one mode) distributions have the property that mean > median > mode. Negatively skewed unimodal distributions are the reverse, with mean < median < mode. All three are equal for a symmetric unimodal distribution."
      ]
    },
    {
      "cell_type": "code",
      "execution_count": 4,
      "metadata": {
        "id": "crz2Yfzg66Ai",
        "outputId": "0db78eaa-64e7-43b0-8d7e-b20258275375",
        "colab": {
          "base_uri": "https://localhost:8080/",
          "height": 265
        }
      },
      "outputs": [
        {
          "output_type": "display_data",
          "data": {
            "text/plain": [
              "<Figure size 432x288 with 1 Axes>"
            ],
            "image/png": "[encoded data removed]"
          },
          "metadata": {
            "needs_background": "light"
          }
        }
      ],
      "source": [
        "# Generate x-values for which we will plot the distribution\n",
        "xs2 = np.linspace(stats.lognorm.ppf(0.01, .7, loc=-.1), stats.lognorm.ppf(0.99, .7, loc=-.1), 150)\n",
        "\n",
        "# Negatively skewed distribution\n",
        "lognormal = stats.lognorm.pdf(xs2, .7)\n",
        "plt.plot(xs2, lognormal, label='Skew > 0')\n",
        "\n",
        "# Positively skewed distribution\n",
        "plt.plot(xs2, lognormal[::-1], label='Skew < 0')\n",
        "plt.legend();"
      ]
    },
    {
      "cell_type": "markdown",
      "metadata": {
        "id": "vLEZEY_p66Aj"
      },
      "source": [
        "Although skew is less obvious when graphing discrete data sets, we can still compute it. For example, below are the skew, mean, and median for S&P 500 returns 2017-2019. The skew is negative, and so the mean is less than the median."
      ]
    },
    {
      "cell_type": "code",
      "execution_count": 5,
      "metadata": {
        "id": "ZVugW7jf66Ak",
        "outputId": "027e2675-64ed-4ec7-8a31-1939696d6243",
        "colab": {
          "base_uri": "https://localhost:8080/",
          "height": 334
        }
      },
      "outputs": [
        {
          "output_type": "stream",
          "name": "stdout",
          "text": [
            "\r[*********************100%***********************]  1 of 1 completed\n",
            "Skew: -0.5999680701478136\n",
            "Mean: 0.0003169655291305178\n",
            "Median: 0.0004865326191134667\n"
          ]
        },
        {
          "output_type": "display_data",
          "data": {
            "text/plain": [
              "<Figure size 432x288 with 1 Axes>"
            ],
            "image/png": "[encoded data removed]"
          },
          "metadata": {
            "needs_background": "light"
          }
        }
      ],
      "source": [
        "pricing = pdr.get_data_yahoo('SPY', start=\"2017-01-01\", end=\"2019-01-01\", interval = \"1d\")['Adj Close']\n",
        "returns = pricing.pct_change()[1:]\n",
        "\n",
        "print('Skew:', stats.skew(returns))\n",
        "print('Mean:', np.mean(returns))\n",
        "print('Median:', np.median(returns))\n",
        "\n",
        "plt.hist(returns, 30);"
      ]
    },
    {
      "cell_type": "markdown",
      "metadata": {
        "id": "GyNipen466Al"
      },
      "source": [
        "### Kurtosis\n",
        "\n",
        "Kurtosis attempts to measure the shape of the deviation from the mean. Generally, it describes how peaked a distribution is compared the the normal distribution, called mesokurtic. All normal distributions, regardless of mean and variance, have a kurtosis of 3. A leptokurtic distribution (kurtosis > 3) is highly peaked and has fat tails, while a platykurtic distribution (kurtosis < 3) is broad. Sometimes, however, kurtosis in excess of the normal distribution (kurtosis - 3) is used, and this is the default in scipy. A leptokurtic distribution has more frequent large jumps away from the mean than a normal distribution does while a platykurtic distribution has fewer."
      ]
    },
    {
      "cell_type": "code",
      "execution_count": 6,
      "metadata": {
        "id": "1H-Uep4866Am",
        "outputId": "405eed2a-8554-4545-f7db-4c3796fa86aa",
        "colab": {
          "base_uri": "https://localhost:8080/",
          "height": 317
        }
      },
      "outputs": [
        {
          "output_type": "stream",
          "name": "stdout",
          "text": [
            "Excess kurtosis of leptokurtic distribution: 3.0\n",
            "Excess kurtosis of mesokurtic distribution: 0.0\n",
            "Excess kurtosis of platykurtic distribution: -0.5937628755982794\n"
          ]
        },
        {
          "output_type": "display_data",
          "data": {
            "text/plain": [
              "<Figure size 432x288 with 1 Axes>"
            ],
            "image/png": "[encoded data removed]"
          },
          "metadata": {
            "needs_background": "light"
          }
        }
      ],
      "source": [
        "# Plot some example distributions\n",
        "plt.plot(xs,stats.laplace.pdf(xs), label='Leptokurtic')\n",
        "print( 'Excess kurtosis of leptokurtic distribution:', (stats.laplace.stats(moments='k')))\n",
        "plt.plot(xs, normal, label='Mesokurtic (normal)')\n",
        "print( 'Excess kurtosis of mesokurtic distribution:', (stats.norm.stats(moments='k')))\n",
        "plt.plot(xs,stats.cosine.pdf(xs), label='Platykurtic')\n",
        "print( 'Excess kurtosis of platykurtic distribution:', (stats.cosine.stats(moments='k')))\n",
        "plt.legend();"
      ]
    },
    {
      "cell_type": "markdown",
      "metadata": {
        "id": "CFymK5WA66Am"
      },
      "source": [
        "Since above we were considering perfect, continuous distributions, this was the form that kurtosis took. However, for a set of samples drawn for the normal distribution, we would use the first definition, and (excess) kurtosis would only be approximately 0.\n",
        "\n",
        "We can use scipy to find the excess kurtosis of the S&P 500 returns from before."
      ]
    },
    {
      "cell_type": "code",
      "execution_count": 7,
      "metadata": {
        "id": "SJB3stIM66An",
        "outputId": "88493926-2532-483c-cd5d-bf84bb0635a0",
        "colab": {
          "base_uri": "https://localhost:8080/"
        }
      },
      "outputs": [
        {
          "output_type": "stream",
          "name": "stdout",
          "text": [
            "Excess kurtosis of returns:  6.588090477447899\n"
          ]
        }
      ],
      "source": [
        "print( \"Excess kurtosis of returns: \", stats.kurtosis(returns))"
      ]
    },
    {
      "cell_type": "markdown",
      "metadata": {
        "id": "dsVgGQOE66An"
      },
      "source": [
        "The histogram of the returns shows significant observations beyond 3 standard deviations away from the mean, multiple large spikes, so we shouldn't be surprised that the kurtosis is indicating a leptokurtic distribution."
      ]
    },
    {
      "cell_type": "markdown",
      "metadata": {
        "id": "u2EspQlg66Ao"
      },
      "source": [
        "## Normality Testing Using Jarque-Bera\n",
        "\n",
        "The Jarque-Bera test is a common statistical test that compares whether sample data has skewness and kurtosis similar to a normal distribution. We can run it here on the S&P 500 returns to find the p-value for them coming from a normal distribution.\n",
        "\n",
        "The Jarque Bera test's null hypothesis is that the data came from a normal distribution. Because of this it can err on the side of not catching a non-normal process if you have a low p-value. To be safe it can be good to increase your cutoff when using the test.\n",
        "\n",
        "Treat p-values as binary and don't try to read into them or compare them. We'll use a cutoff of 0.05 for our p-value."
      ]
    },
    {
      "cell_type": "markdown",
      "metadata": {
        "id": "5zZ8nIKL66Ao"
      },
      "source": [
        "### Test Calibration\n",
        "\n",
        "Remember that each test is written a little differently across different programming languages. You might not know whether it's the null or alternative hypothesis that the tested data comes from a normal distribution. It is recommended that you use the ? notation plus online searching to find documentation on the test; plus it is often a good idea to calibrate a test by checking it on simulated data and making sure it gives the right answer. Let's do that now."
      ]
    },
    {
      "cell_type": "code",
      "execution_count": 8,
      "metadata": {
        "id": "7edg7XU166Ao",
        "outputId": "ac9c70ce-40e4-4711-c5ca-3cf8e1939d24",
        "colab": {
          "base_uri": "https://localhost:8080/"
        }
      },
      "outputs": [
        {
          "output_type": "stream",
          "name": "stdout",
          "text": [
            "0.062\n"
          ]
        }
      ],
      "source": [
        "from statsmodels.stats.stattools import jarque_bera\n",
        "\n",
        "N = 1000\n",
        "M = 1000\n",
        "\n",
        "pvalues = np.ndarray((N))\n",
        "\n",
        "for i in range(N):\n",
        "    # Draw M samples from a normal distribution \n",
        "    X = np.random.normal(0, 1, M);\n",
        "    _, pvalue, _, _ = jarque_bera(X)\n",
        "    pvalues[i] = pvalue\n",
        "    \n",
        "# count number of pvalues below our default 0.05 cutoff\n",
        "num_significant = len(pvalues[pvalues < 0.05])\n",
        "\n",
        "print(float(num_significant) / N)"
      ]
    },
    {
      "cell_type": "markdown",
      "metadata": {
        "id": "mMXcV0Nc66Ap"
      },
      "source": [
        "If properly calibrated, we should expect to be wrong  5%  of the time at a 0.05 significance level, and this is pretty close. This means that the test is working as we expect."
      ]
    },
    {
      "cell_type": "code",
      "execution_count": 9,
      "metadata": {
        "id": "bHPL8jpB66Ap",
        "outputId": "718afb54-5293-4328-8e9d-e97c7842934d",
        "colab": {
          "base_uri": "https://localhost:8080/"
        }
      },
      "outputs": [
        {
          "output_type": "stream",
          "name": "stdout",
          "text": [
            "The returns are likely not normal.\n"
          ]
        }
      ],
      "source": [
        "_, pvalue, _, _ = jarque_bera(returns)\n",
        "\n",
        "if pvalue > 0.05:\n",
        "    print('The returns are likely normal.')\n",
        "else:\n",
        "    print('The returns are likely not normal.')"
      ]
    },
    {
      "cell_type": "markdown",
      "metadata": {
        "id": "2tOq8mfS66Ap"
      },
      "source": [
        "This tells us that the S&P 500 returns likely do not follow a normal distribution."
      ]
    }
  ],
  "metadata": {
    "kernelspec": {
      "display_name": "Python 3",
      "language": "python",
      "name": "python3"
    },
    "language_info": {
      "codemirror_mode": {
        "name": "ipython",
        "version": 3
      },
      "file_extension": ".py",
      "mimetype": "text/x-python",
      "name": "python",
      "nbconvert_exporter": "python",
      "pygments_lexer": "ipython3",
      "version": "3.7.3"
    },
    "colab": {
      "provenance": [],
      "include_colab_link": true
    }
  },
  "nbformat": 4,
  "nbformat_minor": 0
}