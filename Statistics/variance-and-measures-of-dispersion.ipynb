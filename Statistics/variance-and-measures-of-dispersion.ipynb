{
  "cells": [
    {
      "cell_type": "markdown",
      "metadata": {
        "id": "view-in-github",
        "colab_type": "text"
      },
      "source": [
        "<a href=\"https://colab.research.google.com/github/faijurrahman/Quant-Finance-Projects/blob/master/variance-and-measures-of-dispersion.ipynb\" target=\"_parent\"><img src=\"https://colab.research.google.com/assets/colab-badge.svg\" alt=\"Open In Colab\"/></a>"
      ]
    },
    {
      "cell_type": "markdown",
      "metadata": {
        "id": "kY1cR6GQJH8B"
      },
      "source": [
        "## Variance & Measures of Dispersion\n",
        "\n",
        "Dispersion measures how spread out our dataset is. One way risk is measured is by how spread out historically returns have been. Returns very tight around a central value give us less reason to worry. "
      ]
    },
    {
      "cell_type": "code",
      "execution_count": 2,
      "metadata": {
        "id": "KJD0mpodJH8G",
        "outputId": "0e2203c1-bcae-4d9f-b12e-6824bbb990b7",
        "colab": {
          "base_uri": "https://localhost:8080/"
        }
      },
      "outputs": [
        {
          "output_type": "stream",
          "name": "stdout",
          "text": [
            "Looking in indexes: https://pypi.org/simple, https://us-python.pkg.dev/colab-wheels/public/simple/\n",
            "Collecting yfinance\n",
            "  Downloading yfinance-0.2.3-py2.py3-none-any.whl (50 kB)\n",
            "\u001b[K     |████████████████████████████████| 50 kB 3.0 MB/s \n",
            "\u001b[?25hCollecting html5lib>=1.1\n",
            "  Downloading html5lib-1.1-py2.py3-none-any.whl (112 kB)\n",
            "\u001b[K     |████████████████████████████████| 112 kB 8.9 MB/s \n",
            "\u001b[?25hCollecting cryptography>=3.3.2\n",
            "  Downloading cryptography-38.0.4-cp36-abi3-manylinux_2_24_x86_64.whl (4.0 MB)\n",
            "\u001b[K     |████████████████████████████████| 4.0 MB 57.1 MB/s \n",
            "\u001b[?25hRequirement already satisfied: appdirs>=1.4.4 in /usr/local/lib/python3.8/dist-packages (from yfinance) (1.4.4)\n",
            "Requirement already satisfied: multitasking>=0.0.7 in /usr/local/lib/python3.8/dist-packages (from yfinance) (0.0.11)\n",
            "Requirement already satisfied: pytz>=2022.5 in /usr/local/lib/python3.8/dist-packages (from yfinance) (2022.6)\n",
            "Collecting beautifulsoup4>=4.11.1\n",
            "  Downloading beautifulsoup4-4.11.1-py3-none-any.whl (128 kB)\n",
            "\u001b[K     |████████████████████████████████| 128 kB 62.6 MB/s \n",
            "\u001b[?25hCollecting frozendict>=2.3.4\n",
            "  Downloading frozendict-2.3.4-cp38-cp38-manylinux_2_17_x86_64.manylinux2014_x86_64.whl (110 kB)\n",
            "\u001b[K     |████████████████████████████████| 110 kB 63.3 MB/s \n",
            "\u001b[?25hRequirement already satisfied: pandas>=1.3.0 in /usr/local/lib/python3.8/dist-packages (from yfinance) (1.3.5)\n",
            "Requirement already satisfied: numpy>=1.16.5 in /usr/local/lib/python3.8/dist-packages (from yfinance) (1.21.6)\n",
            "Collecting requests>=2.26\n",
            "  Downloading requests-2.28.1-py3-none-any.whl (62 kB)\n",
            "\u001b[K     |████████████████████████████████| 62 kB 1.2 MB/s \n",
            "\u001b[?25hRequirement already satisfied: lxml>=4.9.1 in /usr/local/lib/python3.8/dist-packages (from yfinance) (4.9.2)\n",
            "Collecting soupsieve>1.2\n",
            "  Downloading soupsieve-2.3.2.post1-py3-none-any.whl (37 kB)\n",
            "Requirement already satisfied: cffi>=1.12 in /usr/local/lib/python3.8/dist-packages (from cryptography>=3.3.2->yfinance) (1.15.1)\n",
            "Requirement already satisfied: pycparser in /usr/local/lib/python3.8/dist-packages (from cffi>=1.12->cryptography>=3.3.2->yfinance) (2.21)\n",
            "Requirement already satisfied: webencodings in /usr/local/lib/python3.8/dist-packages (from html5lib>=1.1->yfinance) (0.5.1)\n",
            "Requirement already satisfied: six>=1.9 in /usr/local/lib/python3.8/dist-packages (from html5lib>=1.1->yfinance) (1.15.0)\n",
            "Requirement already satisfied: python-dateutil>=2.7.3 in /usr/local/lib/python3.8/dist-packages (from pandas>=1.3.0->yfinance) (2.8.2)\n",
            "Requirement already satisfied: certifi>=2017.4.17 in /usr/local/lib/python3.8/dist-packages (from requests>=2.26->yfinance) (2022.12.7)\n",
            "Requirement already satisfied: charset-normalizer<3,>=2 in /usr/local/lib/python3.8/dist-packages (from requests>=2.26->yfinance) (2.1.1)\n",
            "Requirement already satisfied: idna<4,>=2.5 in /usr/local/lib/python3.8/dist-packages (from requests>=2.26->yfinance) (2.10)\n",
            "Requirement already satisfied: urllib3<1.27,>=1.21.1 in /usr/local/lib/python3.8/dist-packages (from requests>=2.26->yfinance) (1.24.3)\n",
            "Installing collected packages: soupsieve, requests, html5lib, frozendict, cryptography, beautifulsoup4, yfinance\n",
            "  Attempting uninstall: requests\n",
            "    Found existing installation: requests 2.23.0\n",
            "    Uninstalling requests-2.23.0:\n",
            "      Successfully uninstalled requests-2.23.0\n",
            "  Attempting uninstall: html5lib\n",
            "    Found existing installation: html5lib 1.0.1\n",
            "    Uninstalling html5lib-1.0.1:\n",
            "      Successfully uninstalled html5lib-1.0.1\n",
            "  Attempting uninstall: beautifulsoup4\n",
            "    Found existing installation: beautifulsoup4 4.6.3\n",
            "    Uninstalling beautifulsoup4-4.6.3:\n",
            "      Successfully uninstalled beautifulsoup4-4.6.3\n",
            "Successfully installed beautifulsoup4-4.11.1 cryptography-38.0.4 frozendict-2.3.4 html5lib-1.1 requests-2.28.1 soupsieve-2.3.2.post1 yfinance-0.2.3\n"
          ]
        }
      ],
      "source": [
        "!pip install yfinance\n",
        "import yfinance as yf\n",
        "import requests\n",
        "import datetime\n",
        "import numpy as np\n",
        "import matplotlib.pyplot as plt\n",
        "from pandas_datareader import data as pdr\n",
        "from matplotlib import style\n",
        "from math import pi\n",
        "yf.pdr_override()"
      ]
    },
    {
      "cell_type": "code",
      "execution_count": null,
      "metadata": {
        "id": "SI9MSqRxJH8H",
        "outputId": "48b4da7a-42ae-4efb-8085-bc867155f3e7"
      },
      "outputs": [
        {
          "name": "stdout",
          "output_type": "stream",
          "text": [
            "[*********************100%***********************]  1 of 1 completed\n",
            "[*********************100%***********************]  1 of 1 completed\n",
            "[*********************100%***********************]  1 of 1 completed\n"
          ]
        }
      ],
      "source": [
        "tickers = ['BSX', 'CMCSA', 'NFLX']\n",
        "# tickers = ['BSX', 'CMCSA', 'F', 'HAL', 'JNJ', 'MET', 'NFLX', 'PEP', 'DGX', 'SYK', 'UAA']\n",
        "tickerset = {}\n",
        "for ticker in tickers:\n",
        "    # df is of type <class 'pandas.core.frame.DataFrame'>\n",
        "    df = pdr.get_data_yahoo(ticker, start=\"2020-01-01\", end=\"2020-06-01\", interval = \"1d\")\n",
        "    tickerset[ticker] = df['Adj Close']"
      ]
    },
    {
      "cell_type": "markdown",
      "metadata": {
        "id": "DwfnrDx9JH8I"
      },
      "source": [
        "### Initial Calculations\n",
        "Mean/Range: Trivial to define.\n",
        "\n",
        "Mean Absolute Derivation (MAD): Average of the distances of observations from the arithmetic mean."
      ]
    },
    {
      "cell_type": "code",
      "execution_count": null,
      "metadata": {
        "id": "z-3fZgeuJH8J",
        "outputId": "b5862bcc-84c4-4f3a-eee2-a828c0afc9d8"
      },
      "outputs": [
        {
          "name": "stdout",
          "output_type": "stream",
          "text": [
            "NFLX\n",
            "Mean: 379.5203878161977\n",
            "Range: 155.35000610351562\n",
            "MAD: 32.896367643609636\n"
          ]
        }
      ],
      "source": [
        "sample_ticker = 'NFLX'\n",
        "X = tickerset[sample_ticker]\n",
        "print(sample_ticker)\n",
        "\n",
        "mu = np.mean(X)\n",
        "print('Mean: ' + str(mu))\n",
        "\n",
        "## \"peak-to-peak\"\n",
        "range = np.ptp(X)\n",
        "print('Range: ' + str(range))\n",
        "\n",
        "abs_dispersion = [np.abs(mu - x) for x in X]\n",
        "MAD = np.sum(abs_dispersion)/len(abs_dispersion)\n",
        "print ('MAD:', MAD)"
      ]
    },
    {
      "cell_type": "markdown",
      "metadata": {
        "id": "dPUiru_UJH8J"
      },
      "source": [
        "### Variance & Std. Deviation\n",
        "\n",
        "Variance (&sigma;<sup>2</sup>) : The average of the squared deviations around the mean\n",
        "\n",
        "Standard deviation: Square root of the variance"
      ]
    },
    {
      "cell_type": "code",
      "execution_count": null,
      "metadata": {
        "id": "Uwmzr8GjJH8K",
        "outputId": "0b0222ed-9c7f-45b9-9b26-a84320d4e531"
      },
      "outputs": [
        {
          "name": "stdout",
          "output_type": "stream",
          "text": [
            "Variance of X: 1517.5312504991396\n",
            "Standard deviation of X: 38.95550346869027\n"
          ]
        }
      ],
      "source": [
        "print('Variance of X:', np.var(X))\n",
        "print('Standard deviation of X:', np.std(X))"
      ]
    },
    {
      "cell_type": "markdown",
      "metadata": {
        "id": "3C60BOcVJH8K"
      },
      "source": [
        "### Confirming Chebyshev's Inequality\n",
        "\n",
        "The proportion of samples within k standard deviations (that is, within a distance of  k ⋅  standard deviation) of the mean is at least  1 − 1/k<sup>2</sup>  for all  k > 1.\n",
        "\n",
        "This bound is rarely strict, but it is useful because it holds for all data sets and distributions."
      ]
    },
    {
      "cell_type": "code",
      "execution_count": null,
      "metadata": {
        "id": "xwWNhXWYJH8L",
        "outputId": "328d3e62-5c22-4581-a6ce-99c63ce74aa2"
      },
      "outputs": [
        {
          "name": "stdout",
          "output_type": "stream",
          "text": [
            "Observations within 1.25 stds of mean: 78\n",
            "Confirming that 0.7572815533980582 > 0.36\n"
          ]
        }
      ],
      "source": [
        "k = 1.25\n",
        "dist = k*np.std(X)\n",
        "l = [x for x in X if abs(x - mu) <= dist]\n",
        "print ('Observations within', k, 'stds of mean:', len(l))\n",
        "print ('Confirming that', float(len(l))/len(X), '>', 1 - 1/k**2)"
      ]
    },
    {
      "cell_type": "markdown",
      "metadata": {
        "id": "TKCA3ppfJH8L"
      },
      "source": [
        "### Semivariance & Semideviation\n",
        "\n",
        "Variance and standard deviation tell us how volatile a quantity is, but do not differentiate between deviations upward and deviations downward. \n",
        "\n",
        "In the case of returns on an asset, we are more worried about deviations downward. This is addressed by semivariance and semideviation, which only count the observations that fall below the mean."
      ]
    },
    {
      "cell_type": "code",
      "execution_count": null,
      "metadata": {
        "id": "kqgv8CFPJH8M",
        "outputId": "04fb46b5-2ee4-4f0f-8f53-49d477a13a0c"
      },
      "outputs": [
        {
          "name": "stdout",
          "output_type": "stream",
          "text": [
            "Semivariance of X: 1165.010429549552\n",
            "Semideviation of X: 34.132249113551715\n"
          ]
        }
      ],
      "source": [
        "# No built-in semideviation\n",
        "lows = [e for e in X if e <= mu]\n",
        "\n",
        "semivar = np.sum( (lows - mu) ** 2 ) / len(lows)\n",
        "\n",
        "print('Semivariance of X:', semivar)\n",
        "print('Semideviation of X:', np.sqrt(semivar))"
      ]
    },
    {
      "cell_type": "markdown",
      "metadata": {
        "id": "5uyJkTAXJH8M"
      },
      "source": [
        "#### A Related Notion\n",
        "\n",
        "Target semivariance (and target semideviation)... used to average the distance from a target of values which fall below that target:"
      ]
    },
    {
      "cell_type": "code",
      "execution_count": null,
      "metadata": {
        "id": "w_7hWqWPJH8N",
        "outputId": "4d31b2b1-c0bf-4a2f-b961-fb9154e1ba23"
      },
      "outputs": [
        {
          "name": "stdout",
          "output_type": "stream",
          "text": [
            "Target semivariance of X: 192.30504586489405\n",
            "Target semideviation of X: 13.867409486450383\n"
          ]
        }
      ],
      "source": [
        "B = 330\n",
        "lows_B = [e for e in X if e <= B]\n",
        "semivar_B = sum(map(lambda x: (x - B)**2,lows_B))/len(lows_B)\n",
        "\n",
        "print('Target semivariance of X:', semivar_B)\n",
        "print('Target semideviation of X:', np.sqrt(semivar_B))"
      ]
    },
    {
      "cell_type": "markdown",
      "metadata": {
        "id": "0WKqF0tBJH8N"
      },
      "source": [
        "### Closing\n",
        "\n",
        "These computations will give sample statistics, that is, standard deviation of a sample of data. Whether or not this reflects the current true population standard deviation is not always obvious, and more effort has to be put into determining that. This can be problematic in finance as all data are time series, and the mean and variance may change over time. Different techniques and subtleties can be implemented to counter this."
      ]
    }
  ],
  "metadata": {
    "kernelspec": {
      "display_name": "Python 3",
      "language": "python",
      "name": "python3"
    },
    "language_info": {
      "codemirror_mode": {
        "name": "ipython",
        "version": 3
      },
      "file_extension": ".py",
      "mimetype": "text/x-python",
      "name": "python",
      "nbconvert_exporter": "python",
      "pygments_lexer": "ipython3",
      "version": "3.7.3"
    },
    "colab": {
      "provenance": [],
      "include_colab_link": true
    }
  },
  "nbformat": 4,
  "nbformat_minor": 0
}