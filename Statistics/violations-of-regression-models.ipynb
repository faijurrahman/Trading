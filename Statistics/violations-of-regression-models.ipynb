{
  "cells": [
    {
      "cell_type": "markdown",
      "metadata": {
        "id": "view-in-github",
        "colab_type": "text"
      },
      "source": [
        "<a href=\"https://colab.research.google.com/github/faijurrahman/Trading/blob/main/Statistics/violations-of-regression-models.ipynb\" target=\"_parent\"><img src=\"https://colab.research.google.com/assets/colab-badge.svg\" alt=\"Open In Colab\"/></a>"
      ]
    },
    {
      "cell_type": "markdown",
      "metadata": {
        "id": "eDF7Ua9Z5bop"
      },
      "source": [
        "## Violations of Regression Models\n",
        "\n",
        "When using a regression to fit a model to our data, the assumptions of regression analysis must be satisfied in order to ensure good parameter estimates and accurate fit statistics. We would like parameters to be:\n",
        "* unbiased (expected value over different samples is the true value)\n",
        "* consistent (converging to the true value with many samples), and\n",
        "* efficient (minimized variance)\n",
        "\n",
        "Below we investigate the ways in which these assumptions can be violated and the effect on the parameters and fit statistics. We'll be using single-variable linear equations for the examples, but the same considerations apply to other models. We'll also assume that our model is correctly specified; that is, that the functional form we chose is valid. We discuss model specification errors along with the assumption violations and other problems that they cause in another notebook."
      ]
    },
    {
      "cell_type": "markdown",
      "metadata": {
        "id": "KLWDkNQj5bo9"
      },
      "source": [
        "## Focus on the Residuals\n",
        "\n",
        "Rather than focusing on your model construction, it is possible to gain a huge amount of information from your residuals (errors). Your model may be incredibly complex and impossible to analyze, but as long as you have predictions and observed values, you can compute residuals. Once you have your residuals you can perform many statistical tests.\n",
        "\n",
        "If your residuals do not follow a given distribution (usually normal, but depends on your model), then you know that something is wrong and you should be concerned with the accuracy of your predictions."
      ]
    },
    {
      "cell_type": "markdown",
      "metadata": {
        "id": "WV78GJu45bo_"
      },
      "source": [
        "## Residuals not normally-distributed\n",
        "\n",
        "If the error term is not normally distributed, then our tests of statistical significance will be off. Fortunately, the central limit theorem tells us that, for large enough data samples, the coefficient distributions will be close to normal even if the errors are not. Therefore our analysis will still be valid for large data datasets.\n",
        "\n",
        "### Testing for normality\n",
        "\n",
        "A good test for normality is the Jarque-Bera test. It has a python implementation at `statsmodels.stats.stattools.jarque_bera` , we will use it frequently in this notebook.\n",
        "\n",
        "#### Always test for normality!\n",
        "\n",
        "It's incredibly easy and can save you a ton of time."
      ]
    },
    {
      "cell_type": "code",
      "source": [
        "!pip install yfinance"
      ],
      "metadata": {
        "id": "a80rVdPa5dAu",
        "outputId": "1655ac69-ded0-4639-9798-18d5624103ca",
        "colab": {
          "base_uri": "https://localhost:8080/"
        }
      },
      "execution_count": 3,
      "outputs": [
        {
          "output_type": "stream",
          "name": "stdout",
          "text": [
            "Looking in indexes: https://pypi.org/simple, https://us-python.pkg.dev/colab-wheels/public/simple/\n",
            "Requirement already satisfied: yfinance in /usr/local/lib/python3.8/dist-packages (0.2.3)\n",
            "Requirement already satisfied: pandas>=1.3.0 in /usr/local/lib/python3.8/dist-packages (from yfinance) (1.3.5)\n",
            "Requirement already satisfied: pytz>=2022.5 in /usr/local/lib/python3.8/dist-packages (from yfinance) (2022.7)\n",
            "Requirement already satisfied: multitasking>=0.0.7 in /usr/local/lib/python3.8/dist-packages (from yfinance) (0.0.11)\n",
            "Requirement already satisfied: lxml>=4.9.1 in /usr/local/lib/python3.8/dist-packages (from yfinance) (4.9.2)\n",
            "Requirement already satisfied: cryptography>=3.3.2 in /usr/local/lib/python3.8/dist-packages (from yfinance) (39.0.0)\n",
            "Requirement already satisfied: html5lib>=1.1 in /usr/local/lib/python3.8/dist-packages (from yfinance) (1.1)\n",
            "Requirement already satisfied: frozendict>=2.3.4 in /usr/local/lib/python3.8/dist-packages (from yfinance) (2.3.4)\n",
            "Requirement already satisfied: beautifulsoup4>=4.11.1 in /usr/local/lib/python3.8/dist-packages (from yfinance) (4.11.1)\n",
            "Requirement already satisfied: requests>=2.26 in /usr/local/lib/python3.8/dist-packages (from yfinance) (2.28.2)\n",
            "Requirement already satisfied: numpy>=1.16.5 in /usr/local/lib/python3.8/dist-packages (from yfinance) (1.21.6)\n",
            "Requirement already satisfied: appdirs>=1.4.4 in /usr/local/lib/python3.8/dist-packages (from yfinance) (1.4.4)\n",
            "Requirement already satisfied: soupsieve>1.2 in /usr/local/lib/python3.8/dist-packages (from beautifulsoup4>=4.11.1->yfinance) (2.3.2.post1)\n",
            "Requirement already satisfied: cffi>=1.12 in /usr/local/lib/python3.8/dist-packages (from cryptography>=3.3.2->yfinance) (1.15.1)\n",
            "Requirement already satisfied: six>=1.9 in /usr/local/lib/python3.8/dist-packages (from html5lib>=1.1->yfinance) (1.15.0)\n",
            "Requirement already satisfied: webencodings in /usr/local/lib/python3.8/dist-packages (from html5lib>=1.1->yfinance) (0.5.1)\n",
            "Requirement already satisfied: python-dateutil>=2.7.3 in /usr/local/lib/python3.8/dist-packages (from pandas>=1.3.0->yfinance) (2.8.2)\n",
            "Requirement already satisfied: idna<4,>=2.5 in /usr/local/lib/python3.8/dist-packages (from requests>=2.26->yfinance) (2.10)\n",
            "Requirement already satisfied: charset-normalizer<4,>=2 in /usr/local/lib/python3.8/dist-packages (from requests>=2.26->yfinance) (2.1.1)\n",
            "Requirement already satisfied: urllib3<1.27,>=1.21.1 in /usr/local/lib/python3.8/dist-packages (from requests>=2.26->yfinance) (1.24.3)\n",
            "Requirement already satisfied: certifi>=2017.4.17 in /usr/local/lib/python3.8/dist-packages (from requests>=2.26->yfinance) (2022.12.7)\n",
            "Requirement already satisfied: pycparser in /usr/local/lib/python3.8/dist-packages (from cffi>=1.12->cryptography>=3.3.2->yfinance) (2.21)\n"
          ]
        }
      ]
    },
    {
      "cell_type": "code",
      "execution_count": 4,
      "metadata": {
        "id": "jrEeNDZQ5bpA"
      },
      "outputs": [],
      "source": [
        "import yfinance as yf\n",
        "from pandas_datareader import data as pdr\n",
        "\n",
        "# Import all other libraries we'll be using\n",
        "import numpy as np\n",
        "import statsmodels.api as sm\n",
        "from statsmodels import regression, stats\n",
        "import statsmodels\n",
        "import matplotlib.pyplot as plt\n",
        "\n",
        "yf.pdr_override()"
      ]
    },
    {
      "cell_type": "code",
      "execution_count": 5,
      "metadata": {
        "id": "1WNr9VHY5bpC",
        "outputId": "95c259b3-0c89-4fa5-c5e9-644d4d170442",
        "colab": {
          "base_uri": "https://localhost:8080/"
        }
      },
      "outputs": [
        {
          "output_type": "stream",
          "name": "stdout",
          "text": [
            "0.4907108533333202\n",
            "0.0012165146579306248\n"
          ]
        }
      ],
      "source": [
        "residuals = np.random.normal(0, 1, 100)\n",
        "\n",
        "_, pvalue, _, _ = statsmodels.stats.stattools.jarque_bera(residuals)\n",
        "print(pvalue)\n",
        "\n",
        "residuals = np.random.poisson(size = 100)\n",
        "\n",
        "_, pvalue, _, _ = statsmodels.stats.stattools.jarque_bera(residuals)\n",
        "print(pvalue)"
      ]
    },
    {
      "cell_type": "markdown",
      "metadata": {
        "id": "mc70rNvo5bpE"
      },
      "source": [
        "## Heteroskedasticity\n",
        "\n",
        "Heteroskedasticity means that the variance of the error terms is not constant across observations. Intuitively, this means that the observations are not uniformly distributed along the regression line. It often occurs in cross-sectional data where the differences in the samples we are measuring lead to differences in the variance."
      ]
    },
    {
      "cell_type": "code",
      "execution_count": 6,
      "metadata": {
        "id": "RXT9WvOW5bpF",
        "outputId": "0c843cbf-0f9d-4991-e203-194c84ac7394",
        "colab": {
          "base_uri": "https://localhost:8080/",
          "height": 295
        }
      },
      "outputs": [
        {
          "output_type": "display_data",
          "data": {
            "text/plain": [
              "<Figure size 432x288 with 1 Axes>"
            ],
            "image/png": "[encoded data removed]"
          },
          "metadata": {
            "needs_background": "light"
          }
        }
      ],
      "source": [
        "# Artificially create dataset with constant variance around a line\n",
        "xs = np.arange(100)\n",
        "y1 = xs + 3*np.random.randn(100)\n",
        "\n",
        "# Get results of linear regression\n",
        "slr1 = regression.linear_model.OLS(y1, sm.add_constant(xs)).fit()\n",
        "\n",
        "# Construct the fit line\n",
        "fit1 = slr1.params[0] + slr1.params[1]*xs\n",
        "\n",
        "# Plot data and regression line\n",
        "plt.scatter(xs, y1)\n",
        "plt.plot(xs, fit1)\n",
        "plt.title('Homoskedastic errors');\n",
        "plt.legend(['Predicted', 'Observed'])\n",
        "plt.xlabel('X')\n",
        "plt.ylabel('Y');"
      ]
    },
    {
      "cell_type": "code",
      "execution_count": 7,
      "metadata": {
        "id": "iZeGqOsr5bpG",
        "outputId": "b77d348d-2e42-464a-b9ca-5c77288188cd",
        "colab": {
          "base_uri": "https://localhost:8080/",
          "height": 730
        }
      },
      "outputs": [
        {
          "output_type": "execute_result",
          "data": {
            "text/plain": [
              "<class 'statsmodels.iolib.summary.Summary'>\n",
              "\"\"\"\n",
              "                            OLS Regression Results                            \n",
              "==============================================================================\n",
              "Dep. Variable:                      y   R-squared:                       0.628\n",
              "Model:                            OLS   Adj. R-squared:                  0.624\n",
              "Method:                 Least Squares   F-statistic:                     165.1\n",
              "Date:                Thu, 12 Jan 2023   Prob (F-statistic):           9.73e-23\n",
              "Time:                        21:33:01   Log-Likelihood:                -467.75\n",
              "No. Observations:                 100   AIC:                             939.5\n",
              "Df Residuals:                      98   BIC:                             944.7\n",
              "Df Model:                           1                                         \n",
              "Covariance Type:            nonrobust                                         \n",
              "==============================================================================\n",
              "                 coef    std err          t      P>|t|      [0.025      0.975]\n",
              "------------------------------------------------------------------------------\n",
              "const         -4.9269      5.216     -0.945      0.347     -15.278       5.424\n",
              "x1             1.1696      0.091     12.849      0.000       0.989       1.350\n",
              "==============================================================================\n",
              "Omnibus:                        6.458   Durbin-Watson:                   1.706\n",
              "Prob(Omnibus):                  0.040   Jarque-Bera (JB):                6.442\n",
              "Skew:                           0.431   Prob(JB):                       0.0399\n",
              "Kurtosis:                       3.895   Cond. No.                         114.\n",
              "==============================================================================\n",
              "\n",
              "Notes:\n",
              "[1] Standard Errors assume that the covariance matrix of the errors is correctly specified.\n",
              "\"\"\""
            ],
            "text/html": [
              "<table class=\"simpletable\">\n",
              "<caption>OLS Regression Results</caption>\n",
              "<tr>\n",
              "  <th>Dep. Variable:</th>            <td>y</td>        <th>  R-squared:         </th> <td>   0.628</td>\n",
              "</tr>\n",
              "<tr>\n",
              "  <th>Model:</th>                   <td>OLS</td>       <th>  Adj. R-squared:    </th> <td>   0.624</td>\n",
              "</tr>\n",
              "<tr>\n",
              "  <th>Method:</th>             <td>Least Squares</td>  <th>  F-statistic:       </th> <td>   165.1</td>\n",
              "</tr>\n",
              "<tr>\n",
              "  <th>Date:</th>             <td>Thu, 12 Jan 2023</td> <th>  Prob (F-statistic):</th> <td>9.73e-23</td>\n",
              "</tr>\n",
              "<tr>\n",
              "  <th>Time:</th>                 <td>21:33:01</td>     <th>  Log-Likelihood:    </th> <td> -467.75</td>\n",
              "</tr>\n",
              "<tr>\n",
              "  <th>No. Observations:</th>      <td>   100</td>      <th>  AIC:               </th> <td>   939.5</td>\n",
              "</tr>\n",
              "<tr>\n",
              "  <th>Df Residuals:</th>          <td>    98</td>      <th>  BIC:               </th> <td>   944.7</td>\n",
              "</tr>\n",
              "<tr>\n",
              "  <th>Df Model:</th>              <td>     1</td>      <th>                     </th>     <td> </td>   \n",
              "</tr>\n",
              "<tr>\n",
              "  <th>Covariance Type:</th>      <td>nonrobust</td>    <th>                     </th>     <td> </td>   \n",
              "</tr>\n",
              "</table>\n",
              "<table class=\"simpletable\">\n",
              "<tr>\n",
              "    <td></td>       <th>coef</th>     <th>std err</th>      <th>t</th>      <th>P>|t|</th>  <th>[0.025</th>    <th>0.975]</th>  \n",
              "</tr>\n",
              "<tr>\n",
              "  <th>const</th> <td>   -4.9269</td> <td>    5.216</td> <td>   -0.945</td> <td> 0.347</td> <td>  -15.278</td> <td>    5.424</td>\n",
              "</tr>\n",
              "<tr>\n",
              "  <th>x1</th>    <td>    1.1696</td> <td>    0.091</td> <td>   12.849</td> <td> 0.000</td> <td>    0.989</td> <td>    1.350</td>\n",
              "</tr>\n",
              "</table>\n",
              "<table class=\"simpletable\">\n",
              "<tr>\n",
              "  <th>Omnibus:</th>       <td> 6.458</td> <th>  Durbin-Watson:     </th> <td>   1.706</td>\n",
              "</tr>\n",
              "<tr>\n",
              "  <th>Prob(Omnibus):</th> <td> 0.040</td> <th>  Jarque-Bera (JB):  </th> <td>   6.442</td>\n",
              "</tr>\n",
              "<tr>\n",
              "  <th>Skew:</th>          <td> 0.431</td> <th>  Prob(JB):          </th> <td>  0.0399</td>\n",
              "</tr>\n",
              "<tr>\n",
              "  <th>Kurtosis:</th>      <td> 3.895</td> <th>  Cond. No.          </th> <td>    114.</td>\n",
              "</tr>\n",
              "</table><br/><br/>Notes:<br/>[1] Standard Errors assume that the covariance matrix of the errors is correctly specified."
            ]
          },
          "metadata": {},
          "execution_count": 7
        },
        {
          "output_type": "display_data",
          "data": {
            "text/plain": [
              "<Figure size 432x288 with 1 Axes>"
            ],
            "image/png": "[encoded data removed]"
          },
          "metadata": {
            "needs_background": "light"
          }
        }
      ],
      "source": [
        "# Artificially create dataset with changing variance around a line\n",
        "y2 = xs*(1 + .5*np.random.randn(100))\n",
        "\n",
        "# Perform linear regression\n",
        "slr2 = regression.linear_model.OLS(y2, sm.add_constant(xs)).fit()\n",
        "fit2 = slr2.params[0] + slr2.params[1]*xs\n",
        "\n",
        "# Plot data and regression line\n",
        "plt.scatter(xs, y2)\n",
        "plt.plot(xs, fit2)\n",
        "plt.title('Heteroskedastic errors')\n",
        "plt.legend(['Predicted', 'Observed'])\n",
        "plt.xlabel('X')\n",
        "plt.ylabel('Y')\n",
        "\n",
        "# Print summary of regression results\n",
        "slr2.summary()"
      ]
    },
    {
      "cell_type": "markdown",
      "metadata": {
        "id": "7jwtMwLG5bpI"
      },
      "source": [
        "### Testing for Heteroskedasticity\n",
        "\n",
        "You can test for heteroskedasticity using a few tests, we'll use the Breush Pagan test from the statsmodels library. We'll also test for normality, which in this case also picks up the weirdness in the second case. HOWEVER, it is possible to have normally distributed residuals which are also heteroskedastic, so both tests must be performed to be sure."
      ]
    },
    {
      "cell_type": "code",
      "execution_count": 8,
      "metadata": {
        "id": "byNAirPu5bpJ",
        "outputId": "ae17ef65-f529-4269-965c-205cdacae928",
        "colab": {
          "base_uri": "https://localhost:8080/"
        }
      },
      "outputs": [
        {
          "output_type": "stream",
          "name": "stdout",
          "text": [
            "p-value for residuals1 being normal 0.9485924778081493\n",
            "p-value for residuals2 being normal 0.039914137616737635\n",
            "p-value for residuals1 being heteroskedastic 0.9638593943046049\n",
            "p-value for residuals2 being heteroskedastic 2.3227222278224757e-05\n"
          ]
        }
      ],
      "source": [
        "residuals1 = y1-fit1\n",
        "residuals2 = y2-fit2\n",
        "\n",
        "xs_with_constant = sm.add_constant(xs)\n",
        "\n",
        "_, jb_pvalue1, _, _ = statsmodels.stats.stattools.jarque_bera(residuals1)\n",
        "_, jb_pvalue2, _, _ = statsmodels.stats.stattools.jarque_bera(residuals2)\n",
        "print(\"p-value for residuals1 being normal\", jb_pvalue1)\n",
        "print(\"p-value for residuals2 being normal\", jb_pvalue2)\n",
        "\n",
        "_, pvalue1, _, _ = stats.diagnostic.het_breuschpagan(residuals1, xs_with_constant)\n",
        "_, pvalue2, _, _ = stats.diagnostic.het_breuschpagan(residuals2, xs_with_constant)\n",
        "print(\"p-value for residuals1 being heteroskedastic\", pvalue1)\n",
        "print(\"p-value for residuals2 being heteroskedastic\", pvalue2)"
      ]
    },
    {
      "cell_type": "markdown",
      "metadata": {
        "id": "k54km_3H5bpK"
      },
      "source": [
        "### Correcting for Heteroskedasticity\n",
        "\n",
        "How does heteroskedasticity affect our analysis? The problematic situation, known as conditional heteroskedasticity, is when the error variance is correlated with the independent variables as it is above. This makes the F-test for regression significance and t-tests for the significances of individual coefficients unreliable. Most often this results in overestimation of the significance of the fit.\n",
        "\n",
        "The Breusch-Pagan test and the White test can be used to detect conditional heteroskedasticity. If we suspect that this effect is present, we can alter our model to try and correct for it. One method is generalized least squares, which requires a manual alteration of the original equation. Another is computing robust standard errors, which corrects the fit statistics to account for the heteroskedasticity. `statsmodels` can compute robust standard errors; note the difference in the statistics below."
      ]
    },
    {
      "cell_type": "code",
      "execution_count": 9,
      "metadata": {
        "id": "e6EK12RG5bpK",
        "outputId": "2b958373-2c34-43b7-861f-4baeab65ba68",
        "colab": {
          "base_uri": "https://localhost:8080/"
        }
      },
      "outputs": [
        {
          "output_type": "stream",
          "name": "stdout",
          "text": [
            "                            OLS Regression Results                            \n",
            "==============================================================================\n",
            "Dep. Variable:                      y   R-squared:                       0.628\n",
            "Model:                            OLS   Adj. R-squared:                  0.624\n",
            "Method:                 Least Squares   F-statistic:                     165.1\n",
            "Date:                Thu, 12 Jan 2023   Prob (F-statistic):           9.73e-23\n",
            "Time:                        21:33:01   Log-Likelihood:                -467.75\n",
            "No. Observations:                 100   AIC:                             939.5\n",
            "Df Residuals:                      98   BIC:                             944.7\n",
            "Df Model:                           1                                         \n",
            "Covariance Type:            nonrobust                                         \n",
            "==============================================================================\n",
            "                 coef    std err          t      P>|t|      [0.025      0.975]\n",
            "------------------------------------------------------------------------------\n",
            "const         -4.9269      5.216     -0.945      0.347     -15.278       5.424\n",
            "x1             1.1696      0.091     12.849      0.000       0.989       1.350\n",
            "==============================================================================\n",
            "Omnibus:                        6.458   Durbin-Watson:                   1.706\n",
            "Prob(Omnibus):                  0.040   Jarque-Bera (JB):                6.442\n",
            "Skew:                           0.431   Prob(JB):                       0.0399\n",
            "Kurtosis:                       3.895   Cond. No.                         114.\n",
            "==============================================================================\n",
            "\n",
            "Notes:\n",
            "[1] Standard Errors assume that the covariance matrix of the errors is correctly specified.\n",
            "                            OLS Regression Results                            \n",
            "==============================================================================\n",
            "Dep. Variable:                      y   R-squared:                       0.628\n",
            "Model:                            OLS   Adj. R-squared:                  0.624\n",
            "Method:                 Least Squares   F-statistic:                     151.4\n",
            "Date:                Thu, 12 Jan 2023   Prob (F-statistic):           1.36e-21\n",
            "Time:                        21:33:01   Log-Likelihood:                -467.75\n",
            "No. Observations:                 100   AIC:                             939.5\n",
            "Df Residuals:                      98   BIC:                             944.7\n",
            "Df Model:                           1                                         \n",
            "Covariance Type:                  HC1                                         \n",
            "==============================================================================\n",
            "                 coef    std err          t      P>|t|      [0.025      0.975]\n",
            "------------------------------------------------------------------------------\n",
            "const         -4.9269      3.463     -1.423      0.158     -11.800       1.946\n",
            "x1             1.1696      0.095     12.305      0.000       0.981       1.358\n",
            "==============================================================================\n",
            "Omnibus:                        6.458   Durbin-Watson:                   1.706\n",
            "Prob(Omnibus):                  0.040   Jarque-Bera (JB):                6.442\n",
            "Skew:                           0.431   Prob(JB):                       0.0399\n",
            "Kurtosis:                       3.895   Cond. No.                         114.\n",
            "==============================================================================\n",
            "\n",
            "Notes:\n",
            "[1] Standard Errors are heteroscedasticity robust (HC1)\n"
          ]
        }
      ],
      "source": [
        "print(slr2.summary())\n",
        "print(slr2.get_robustcov_results().summary())"
      ]
    },
    {
      "cell_type": "markdown",
      "metadata": {
        "id": "tXEquaVS5bpL"
      },
      "source": [
        "## Serial correlation of errors\n",
        "\n",
        "A common and serious problem is when errors are correlated across observations (known serial correlation or autocorrelation). This can occur, for instance, when some of the data points are related, or when we use time-series data with periodic fluctuations. If one of the independent variables depends on previous values of the dependent variable - such as when it is equal to the value of the dependent variable in the previous period - or if incorrect model specification leads to autocorrelation, then the coefficient estimates will be inconsistent and therefore invalid. Otherwise, the parameter estimates will be valid, but the fit statistics will be off. For instance, if the correlation is positive, we will have inflated F- and t-statistics, leading us to overestimate the significance of the model.\n",
        "\n",
        "If the errors are homoskedastic, we can test for autocorrelation using the Durbin-Watson test, which is conveniently reported in the regression summary in `statsmodels`."
      ]
    },
    {
      "cell_type": "code",
      "execution_count": 10,
      "metadata": {
        "id": "zA6gaYPE5bpL",
        "outputId": "d290505a-dc82-4e8c-f807-8ca4a24ae6b5",
        "colab": {
          "base_uri": "https://localhost:8080/",
          "height": 732
        }
      },
      "outputs": [
        {
          "output_type": "stream",
          "name": "stdout",
          "text": [
            "\r[*********************100%***********************]  1 of 1 completed\n"
          ]
        },
        {
          "output_type": "execute_result",
          "data": {
            "text/plain": [
              "<class 'statsmodels.iolib.summary.Summary'>\n",
              "\"\"\"\n",
              "                            OLS Regression Results                            \n",
              "==============================================================================\n",
              "Dep. Variable:              Adj Close   R-squared:                       0.670\n",
              "Model:                            OLS   Adj. R-squared:                  0.669\n",
              "Method:                 Least Squares   F-statistic:                     507.7\n",
              "Date:                Thu, 12 Jan 2023   Prob (F-statistic):           3.93e-62\n",
              "Time:                        21:33:02   Log-Likelihood:                -583.53\n",
              "No. Observations:                 252   AIC:                             1171.\n",
              "Df Residuals:                     250   BIC:                             1178.\n",
              "Df Model:                           1                                         \n",
              "Covariance Type:            nonrobust                                         \n",
              "==============================================================================\n",
              "                 coef    std err          t      P>|t|      [0.025      0.975]\n",
              "------------------------------------------------------------------------------\n",
              "const         27.7028      0.309     89.609      0.000      27.094      28.312\n",
              "x1             0.0480      0.002     22.532      0.000       0.044       0.052\n",
              "==============================================================================\n",
              "Omnibus:                       30.510   Durbin-Watson:                   0.085\n",
              "Prob(Omnibus):                  0.000   Jarque-Bera (JB):               44.725\n",
              "Skew:                          -0.750   Prob(JB):                     1.94e-10\n",
              "Kurtosis:                       4.418   Cond. No.                         289.\n",
              "==============================================================================\n",
              "\n",
              "Notes:\n",
              "[1] Standard Errors assume that the covariance matrix of the errors is correctly specified.\n",
              "\"\"\""
            ],
            "text/html": [
              "<table class=\"simpletable\">\n",
              "<caption>OLS Regression Results</caption>\n",
              "<tr>\n",
              "  <th>Dep. Variable:</th>        <td>Adj Close</td>    <th>  R-squared:         </th> <td>   0.670</td>\n",
              "</tr>\n",
              "<tr>\n",
              "  <th>Model:</th>                   <td>OLS</td>       <th>  Adj. R-squared:    </th> <td>   0.669</td>\n",
              "</tr>\n",
              "<tr>\n",
              "  <th>Method:</th>             <td>Least Squares</td>  <th>  F-statistic:       </th> <td>   507.7</td>\n",
              "</tr>\n",
              "<tr>\n",
              "  <th>Date:</th>             <td>Thu, 12 Jan 2023</td> <th>  Prob (F-statistic):</th> <td>3.93e-62</td>\n",
              "</tr>\n",
              "<tr>\n",
              "  <th>Time:</th>                 <td>21:33:02</td>     <th>  Log-Likelihood:    </th> <td> -583.53</td>\n",
              "</tr>\n",
              "<tr>\n",
              "  <th>No. Observations:</th>      <td>   252</td>      <th>  AIC:               </th> <td>   1171.</td>\n",
              "</tr>\n",
              "<tr>\n",
              "  <th>Df Residuals:</th>          <td>   250</td>      <th>  BIC:               </th> <td>   1178.</td>\n",
              "</tr>\n",
              "<tr>\n",
              "  <th>Df Model:</th>              <td>     1</td>      <th>                     </th>     <td> </td>   \n",
              "</tr>\n",
              "<tr>\n",
              "  <th>Covariance Type:</th>      <td>nonrobust</td>    <th>                     </th>     <td> </td>   \n",
              "</tr>\n",
              "</table>\n",
              "<table class=\"simpletable\">\n",
              "<tr>\n",
              "    <td></td>       <th>coef</th>     <th>std err</th>      <th>t</th>      <th>P>|t|</th>  <th>[0.025</th>    <th>0.975]</th>  \n",
              "</tr>\n",
              "<tr>\n",
              "  <th>const</th> <td>   27.7028</td> <td>    0.309</td> <td>   89.609</td> <td> 0.000</td> <td>   27.094</td> <td>   28.312</td>\n",
              "</tr>\n",
              "<tr>\n",
              "  <th>x1</th>    <td>    0.0480</td> <td>    0.002</td> <td>   22.532</td> <td> 0.000</td> <td>    0.044</td> <td>    0.052</td>\n",
              "</tr>\n",
              "</table>\n",
              "<table class=\"simpletable\">\n",
              "<tr>\n",
              "  <th>Omnibus:</th>       <td>30.510</td> <th>  Durbin-Watson:     </th> <td>   0.085</td>\n",
              "</tr>\n",
              "<tr>\n",
              "  <th>Prob(Omnibus):</th> <td> 0.000</td> <th>  Jarque-Bera (JB):  </th> <td>  44.725</td>\n",
              "</tr>\n",
              "<tr>\n",
              "  <th>Skew:</th>          <td>-0.750</td> <th>  Prob(JB):          </th> <td>1.94e-10</td>\n",
              "</tr>\n",
              "<tr>\n",
              "  <th>Kurtosis:</th>      <td> 4.418</td> <th>  Cond. No.          </th> <td>    289.</td>\n",
              "</tr>\n",
              "</table><br/><br/>Notes:<br/>[1] Standard Errors assume that the covariance matrix of the errors is correctly specified."
            ]
          },
          "metadata": {},
          "execution_count": 10
        },
        {
          "output_type": "display_data",
          "data": {
            "text/plain": [
              "<Figure size 432x288 with 1 Axes>"
            ],
            "image/png": "[encoded data removed]"
          },
          "metadata": {
            "needs_background": "light"
          }
        }
      ],
      "source": [
        "# Load pricing data for an asset\n",
        "start_date = '2014-01-01'\n",
        "end_date = '2015-01-01'\n",
        "y = pdr.get_data_yahoo('DAL', start=start_date, end=end_date, interval = \"1d\")['Adj Close']\n",
        "x = np.arange(len(y))\n",
        "\n",
        "# Regress pricing data against time\n",
        "model = regression.linear_model.OLS(y, sm.add_constant(x)).fit()\n",
        "\n",
        "# Construct the fit line\n",
        "prediction = model.params[0] + model.params[1]*x\n",
        "\n",
        "# Plot pricing data and regression line\n",
        "plt.plot(x,y)\n",
        "plt.plot(x, prediction, color='r')\n",
        "plt.legend(['DAL Price', 'Regression Line'])\n",
        "plt.xlabel('Time')\n",
        "plt.ylabel('Price')\n",
        "\n",
        "# Print summary of regression results\n",
        "model.summary()"
      ]
    },
    {
      "cell_type": "markdown",
      "metadata": {
        "id": "adJR2seE5bpM"
      },
      "source": [
        "### Testing for Autocorrelation\n",
        "\n",
        "We can test for autocorrelation in both our prices and residuals. We'll use the built-in method to do this, which is based on the Ljun-Box test. This test computes the probability that the n-th lagged datapoint is predictive of the current. If no max lag is given, then the function computes a max lag and returns the p-values for all lags up to that one. We can see here that for the 5 most recent datapoints, a significant correlation exists with the current. Therefore we conclude that both the data is autocorrelated.\n",
        "\n",
        "We also test for normality for fun."
      ]
    },
    {
      "cell_type": "code",
      "execution_count": 11,
      "metadata": {
        "id": "nI77smHK5bpN",
        "outputId": "9f5830f0-68be-458e-c2d4-88c815f434f2",
        "colab": {
          "base_uri": "https://localhost:8080/"
        }
      },
      "outputs": [
        {
          "output_type": "stream",
          "name": "stdout",
          "text": [
            "Prices autocorrelation p-values [8.84125084e-052 5.65400326e-096 9.54945375e-136 8.25071918e-172\n",
            " 3.49543771e-204 1.31952873e-232 1.14535655e-257 9.32126965e-280\n",
            " 1.87460988e-299 0.00000000e+000 0.00000000e+000 0.00000000e+000\n",
            " 0.00000000e+000 0.00000000e+000 0.00000000e+000 0.00000000e+000\n",
            " 0.00000000e+000 0.00000000e+000 0.00000000e+000 0.00000000e+000\n",
            " 0.00000000e+000 0.00000000e+000 0.00000000e+000 0.00000000e+000\n",
            " 0.00000000e+000 0.00000000e+000 0.00000000e+000 0.00000000e+000\n",
            " 0.00000000e+000 0.00000000e+000 0.00000000e+000 0.00000000e+000\n",
            " 0.00000000e+000 0.00000000e+000 0.00000000e+000 0.00000000e+000\n",
            " 0.00000000e+000 0.00000000e+000 0.00000000e+000 0.00000000e+000]\n",
            "Residuals autocorrelation p-values [8.84125084e-052 5.65400326e-096 9.54945375e-136 8.25071918e-172\n",
            " 3.49543771e-204 1.31952873e-232 1.14535655e-257 9.32126965e-280\n",
            " 1.87460988e-299 0.00000000e+000 0.00000000e+000 0.00000000e+000\n",
            " 0.00000000e+000 0.00000000e+000 0.00000000e+000 0.00000000e+000\n",
            " 0.00000000e+000 0.00000000e+000 0.00000000e+000 0.00000000e+000\n",
            " 0.00000000e+000 0.00000000e+000 0.00000000e+000 0.00000000e+000\n",
            " 0.00000000e+000 0.00000000e+000 0.00000000e+000 0.00000000e+000\n",
            " 0.00000000e+000 0.00000000e+000 0.00000000e+000 0.00000000e+000\n",
            " 0.00000000e+000 0.00000000e+000 0.00000000e+000 0.00000000e+000\n",
            " 0.00000000e+000 0.00000000e+000 0.00000000e+000 0.00000000e+000]\n",
            "Jarque-Bera p-value that residuals are normally distributed 1.941533318321664e-10\n"
          ]
        },
        {
          "output_type": "stream",
          "name": "stderr",
          "text": [
            "/usr/local/lib/python3.8/dist-packages/statsmodels/tsa/stattools.py:657: FutureWarning: The default number of lags is changing from 40 tomin(int(10 * np.log10(nobs)), nobs - 1) after 0.12is released. Set the number of lags to an integer to  silence this warning.\n",
            "  warnings.warn(\n",
            "/usr/local/lib/python3.8/dist-packages/statsmodels/tsa/stattools.py:667: FutureWarning: fft=True will become the default after the release of the 0.12 release of statsmodels. To suppress this warning, explicitly set fft=False.\n",
            "  warnings.warn(\n"
          ]
        }
      ],
      "source": [
        "_, prices_qstats, prices_qstat_pvalues = statsmodels.tsa.stattools.acf(y, qstat=True)\n",
        "_, prices_qstats, prices_qstat_pvalues = statsmodels.tsa.stattools.acf(y-prediction, qstat=True)\n",
        "\n",
        "print('Prices autocorrelation p-values', prices_qstat_pvalues)\n",
        "print('Residuals autocorrelation p-values', prices_qstat_pvalues)\n",
        "\n",
        "_, jb_pvalue, _, _ = statsmodels.stats.stattools.jarque_bera(y-prediction)\n",
        "\n",
        "print('Jarque-Bera p-value that residuals are normally distributed', jb_pvalue)"
      ]
    },
    {
      "cell_type": "markdown",
      "metadata": {
        "id": "43md7AeS5bpN"
      },
      "source": [
        "## Newey-West\n",
        "\n",
        "Newey-West is a method of computing variance which accounts for autocorrelation. A naive variance computation will actually produce inaccurate standard errors with the presence of autocorrelation.\n",
        "\n",
        "We can attempt to change the regression equation to eliminate serial correlation. A simpler fix is adjusting the standard errors using an appropriate method and using the adjusted values to check for significance. Below we use the Newey-West method from `statsmodels` to compute adjusted standard errors for the coefficients. They are higher than those originally reported by the regression, which is what we expected for positively correlated errors."
      ]
    },
    {
      "cell_type": "code",
      "execution_count": 12,
      "metadata": {
        "id": "6rY_JceD5bpO",
        "outputId": "e582df01-6f60-4f37-cfd5-c2598bc78e80",
        "colab": {
          "base_uri": "https://localhost:8080/"
        }
      },
      "outputs": [
        {
          "output_type": "stream",
          "name": "stdout",
          "text": [
            "Old standard errors: 0.30915297948470294 0.0021312196332574675\n",
            "Adjusted standard errors: 0.45557233611121783 0.004614614051511274\n"
          ]
        }
      ],
      "source": [
        "from math import sqrt\n",
        "\n",
        "# Find the covariance matrix of the coefficients\n",
        "cov_mat = stats.sandwich_covariance.cov_hac(model)\n",
        "\n",
        "# Print the standard errors of each coefficient from the original model and from the adjustment\n",
        "print('Old standard errors:', model.bse[0], model.bse[1])\n",
        "print('Adjusted standard errors:', sqrt(cov_mat[0,0]), sqrt(cov_mat[1,1]))"
      ]
    },
    {
      "cell_type": "markdown",
      "metadata": {
        "id": "tvjVIAGD5bpO"
      },
      "source": [
        " # Multicollinearity\n",
        "\n",
        "When using multiple independent variables, it is important to check for multicollinearity; that is, an approximate linear relation between the independent variables, such as\n",
        "$$ X_2 \\approx 5 X_1 - X_3 + 4.5 $$\n",
        "\n",
        "With multicollinearity, it is difficult to identify the independent effect of each variable, since we can change around the coefficients according to the linear relation without changing the model. As with truly unnecessary variables, this will usually not hurt the accuracy of the model, but will cloud our analysis. In particular, the estimated coefficients will have large standard errors. The coefficients will also no longer represent the partial effect of each variable, since with multicollinearity we cannot change one variable while holding the others constant.\n",
        "\n",
        "High correlation between independent variables is indicative of multicollinearity. However, it is not enough, since we would want to detect correlation between one of the variables and a linear combination of the other variables. If we have high R-squared but low t-statistics on the coefficients (the fit is good but the coefficients are not estimated precisely) we may suspect multicollinearity. To resolve the problem, we can drop one of the independent variables involved in the linear relation.\n",
        "\n",
        "For instance, using two stock indices as our independent variables is likely to lead to multicollinearity. Below we can see that removing one of them improves the t-statistics without hurting R-squared.\n",
        "\n",
        "Another important thing to determine here is which variable may be the casual one. If we hypothesize that the market influences both MDY and HPQ, then the market is the variable that we should use in our predictive model."
      ]
    },
    {
      "cell_type": "code",
      "execution_count": 13,
      "metadata": {
        "id": "f7eg-t8S5bpP",
        "outputId": "f0868a82-d1e4-4ac4-d2be-da387b0ac965",
        "colab": {
          "base_uri": "https://localhost:8080/",
          "height": 451
        }
      },
      "outputs": [
        {
          "output_type": "stream",
          "name": "stdout",
          "text": [
            "[*********************100%***********************]  1 of 1 completed\n",
            "[*********************100%***********************]  1 of 1 completed\n",
            "[*********************100%***********************]  1 of 1 completed\n",
            "R-squared: 0.9024694551597836\n",
            "t-statistics of coefficients:\n",
            " const   -11.782178\n",
            "x1       23.780525\n",
            "x2       -4.501913\n",
            "dtype: float64\n"
          ]
        },
        {
          "output_type": "execute_result",
          "data": {
            "text/plain": [
              "Text(0, 0.5, 'Price')"
            ]
          },
          "metadata": {},
          "execution_count": 13
        },
        {
          "output_type": "display_data",
          "data": {
            "text/plain": [
              "<Figure size 432x288 with 1 Axes>"
            ],
            "image/png": "[encoded data removed]"
          },
          "metadata": {
            "needs_background": "light"
          }
        }
      ],
      "source": [
        "# Load pricing data for asset and two market indices\n",
        "start_date = '2014-01-01'\n",
        "end_date = '2015-01-01'\n",
        "b1 = pdr.get_data_yahoo('SPY', start=start_date, end=end_date, interval = \"1d\")['Adj Close']\n",
        "b2 = pdr.get_data_yahoo('MDY', start=start_date, end=end_date, interval = \"1d\")['Adj Close']\n",
        "a = pdr.get_data_yahoo('HPQ', start=start_date, end=end_date, interval = \"1d\")['Adj Close']\n",
        "\n",
        "# Run multiple linear regression\n",
        "mlr = regression.linear_model.OLS(a, sm.add_constant(np.column_stack((b1,b2)))).fit()\n",
        "\n",
        "# Construct fit curve using dependent variables and estimated coefficients\n",
        "mlr_prediction = mlr.params[0] + mlr.params[1]*b1 + mlr.params[2]*b2\n",
        "\n",
        "# Print regression statistics \n",
        "print('R-squared:', mlr.rsquared_adj)\n",
        "print('t-statistics of coefficients:\\n', mlr.tvalues)\n",
        "\n",
        "# Plot asset and model\n",
        "a.plot()\n",
        "mlr_prediction.plot()\n",
        "plt.legend(['Asset', 'Model']);\n",
        "plt.ylabel('Price')"
      ]
    },
    {
      "cell_type": "code",
      "execution_count": 14,
      "metadata": {
        "id": "nav0NLya5bpQ",
        "outputId": "7e31891a-4852-4ba3-f835-02a647acb27c",
        "colab": {
          "base_uri": "https://localhost:8080/",
          "height": 399
        }
      },
      "outputs": [
        {
          "output_type": "stream",
          "name": "stdout",
          "text": [
            "R-squared: 0.8949528852477041\n",
            "t-statistics of coefficients:\n",
            " const       -23.071569\n",
            "Adj Close    46.253692\n",
            "dtype: float64\n"
          ]
        },
        {
          "output_type": "stream",
          "name": "stderr",
          "text": [
            "/usr/local/lib/python3.8/dist-packages/statsmodels/tsa/tsatools.py:142: FutureWarning: In a future version of pandas all arguments of concat except for the argument 'objs' will be keyword-only\n",
            "  x = pd.concat(x[::order], 1)\n"
          ]
        },
        {
          "output_type": "display_data",
          "data": {
            "text/plain": [
              "<Figure size 432x288 with 1 Axes>"
            ],
            "image/png": "[encoded data removed]"
          },
          "metadata": {
            "needs_background": "light"
          }
        }
      ],
      "source": [
        "# Perform linear regression\n",
        "slr = regression.linear_model.OLS(a, sm.add_constant(b1)).fit()\n",
        "slr_prediction = slr.params[0] + slr.params[1]*b1\n",
        "\n",
        "# Print fit statistics\n",
        "print('R-squared:', slr.rsquared_adj)\n",
        "print('t-statistics of coefficients:\\n', slr.tvalues)\n",
        "\n",
        "# Plot asset and model\n",
        "a.plot()\n",
        "slr_prediction.plot()\n",
        "plt.ylabel('Price')\n",
        "plt.legend(['Asset', 'Model']);"
      ]
    },
    {
      "cell_type": "markdown",
      "metadata": {
        "id": "4ho_mr675bpR"
      },
      "source": [
        "## Example: Anscombe's quartet\n",
        "\n",
        "Anscombe constructed 4 datasets which not only have the same mean and variance in each variable, but also the same correlation coefficient, regression line, and R-squared regression value. Below, we test this result as well as plotting the datasets. A quick glance at the graphs shows that only the first dataset satisfies the regression model assumptions. Consequently, the high R-squared values of the other three are not meaningful, which agrees with our intuition that the other three are not modeled well by the lines of best fit."
      ]
    },
    {
      "cell_type": "code",
      "execution_count": 15,
      "metadata": {
        "id": "icChcShH5bpR",
        "outputId": "3ab8a66f-5a51-42df-a5fc-843e8722b333",
        "colab": {
          "base_uri": "https://localhost:8080/",
          "height": 331
        }
      },
      "outputs": [
        {
          "output_type": "stream",
          "name": "stdout",
          "text": [
            "Cofficients: [3.00009091 0.50009091] [3.00090909 0.5       ] [3.00245455 0.49972727] [3.00172727 0.49990909]\n",
            "Pearson r: 0.81642051634484 0.8162365060002427 0.8162867394895982 0.8165214368885029\n",
            "R-squared: 0.6665424595087751 0.6662420337274844 0.6663240410665592 0.6667072568984653\n"
          ]
        },
        {
          "output_type": "display_data",
          "data": {
            "text/plain": [
              "<Figure size 432x288 with 4 Axes>"
            ],
            "image/png": "[encoded data removed]"
          },
          "metadata": {
            "needs_background": "light"
          }
        }
      ],
      "source": [
        "from scipy.stats import pearsonr\n",
        "\n",
        "# Construct Anscombe's arrays\n",
        "x1 = [10, 8, 13, 9, 11, 14, 6, 4, 12, 7, 5]\n",
        "y1 = [8.04, 6.95, 7.58, 8.81, 8.33, 9.96, 7.24, 4.26, 10.84, 4.82, 5.68]\n",
        "x2 = [10, 8, 13, 9, 11, 14, 6, 4, 12, 7, 5]\n",
        "y2 = [9.14, 8.14, 8.74, 8.77, 9.26, 8.10, 6.13, 3.10, 9.13, 7.26, 4.74]\n",
        "x3 = [10, 8, 13, 9, 11, 14, 6, 4, 12, 7, 5]\n",
        "y3 = [7.46, 6.77, 12.74, 7.11, 7.81, 8.84, 6.08, 5.39, 8.15, 6.42, 5.73]\n",
        "x4 = [8, 8, 8, 8, 8, 8, 8, 19, 8, 8, 8]\n",
        "y4 = [6.58, 5.76, 7.71, 8.84, 8.47, 7.04, 5.25, 12.50, 5.56, 7.91, 6.89]\n",
        "\n",
        "# Perform linear regressions on the datasets\n",
        "slr1 = regression.linear_model.OLS(y1, sm.add_constant(x1)).fit()\n",
        "slr2 = regression.linear_model.OLS(y2, sm.add_constant(x2)).fit()\n",
        "slr3 = regression.linear_model.OLS(y3, sm.add_constant(x3)).fit()\n",
        "slr4 = regression.linear_model.OLS(y4, sm.add_constant(x4)).fit()\n",
        "\n",
        "# Print regression coefficients, Pearson r, and R-squared for the 4 datasets\n",
        "print('Cofficients:', slr1.params, slr2.params, slr3.params, slr4.params)\n",
        "print('Pearson r:', pearsonr(x1, y1)[0], pearsonr(x2, y2)[0], pearsonr(x3, y3)[0], pearsonr(x4, y4)[0])\n",
        "print('R-squared:', slr1.rsquared, slr2.rsquared, slr3.rsquared, slr4.rsquared)\n",
        "\n",
        "# Plot the 4 datasets with their regression lines\n",
        "f, ((ax1, ax2), (ax3, ax4)) = plt.subplots(2,2)\n",
        "xs = np.arange(20)\n",
        "ax1.plot(slr1.params[0] + slr1.params[1]*xs, 'r')\n",
        "ax1.scatter(x1, y1)\n",
        "ax1.set_xlabel('x1')\n",
        "ax1.set_ylabel('y1')\n",
        "ax2.plot(slr2.params[0] + slr2.params[1]*xs, 'r')\n",
        "ax2.scatter(x2, y2)\n",
        "ax2.set_xlabel('x2')\n",
        "ax2.set_ylabel('y2')\n",
        "ax3.plot(slr3.params[0] + slr3.params[1]*xs, 'r')\n",
        "ax3.scatter(x3, y3)\n",
        "ax3.set_xlabel('x3')\n",
        "ax3.set_ylabel('y3')\n",
        "ax4.plot(slr4.params[0] + slr4.params[1]*xs, 'r')\n",
        "ax4.scatter(x4,y4)\n",
        "ax4.set_xlabel('x4')\n",
        "ax4.set_ylabel('y4');"
      ]
    }
  ],
  "metadata": {
    "kernelspec": {
      "display_name": "Python 3",
      "language": "python",
      "name": "python3"
    },
    "language_info": {
      "codemirror_mode": {
        "name": "ipython",
        "version": 3
      },
      "file_extension": ".py",
      "mimetype": "text/x-python",
      "name": "python",
      "nbconvert_exporter": "python",
      "pygments_lexer": "ipython3",
      "version": "3.7.3"
    },
    "colab": {
      "provenance": [],
      "include_colab_link": true
    }
  },
  "nbformat": 4,
  "nbformat_minor": 0
}